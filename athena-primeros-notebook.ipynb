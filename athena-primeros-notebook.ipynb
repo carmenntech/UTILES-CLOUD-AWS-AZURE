{
 "cells": [
  {
   "cell_type": "code",
   "execution_count": 6,
   "metadata": {},
   "outputs": [
    {
     "name": "stdout",
     "output_type": "stream",
     "text": [
      "Calculation started (calculation_id=f8c93ac4-0473-532b-580d-ceabb9657b2f) in (session=d0c93ab6-ab62-65e0-b7c7-2de843489584). Checking calculation status...\n"
     ]
    },
    {
     "data": {
      "application/vnd.jupyter.widget-view+json": {
       "model_id": "c256be1b936d46e08a4f54551cdecc8b",
       "version_major": 2,
       "version_minor": 0
      },
      "text/plain": [
       "Progress:   0%|          |elapsed time = 00:00s"
      ]
     },
     "metadata": {},
     "output_type": "display_data"
    },
    {
     "name": "stdout",
     "output_type": "stream",
     "text": [
      "Calculation completed.\n",
      "root\n",
      " |-- _id: string (nullable = true)\n",
      " |-- jobPostingId: long (nullable = true)\n",
      " |-- title: string (nullable = true)\n",
      " |-- description: string (nullable = true)\n",
      " |-- entityUrn: string (nullable = true)\n",
      " |-- formattedLocation: string (nullable = true)\n",
      "\n",
      "+-------+--------------------+--------------------+--------------------+--------------------+--------------------+--------------------+\n",
      "|summary|                 _id|        jobPostingId|               title|         description|           entityUrn|   formattedLocation|\n",
      "+-------+--------------------+--------------------+--------------------+--------------------+--------------------+--------------------+\n",
      "|  count|                 162|                 162|                 162|                 162|                 162|                 162|\n",
      "|   mean|                null| 3.970988587796296E9|                null|                null|                null|                null|\n",
      "| stddev|                null|2.8824149277560435E7|                null|                null|                null|                null|\n",
      "|    min|66b8b57e2e49d6279...|          3886796507|#DISCOVER II 2024...|\"Descripci�n de l...| Barcelona or Mad...| AI & Machine Lea...|\n",
      "|    max|66b8bf8a00b4fdb3d...|          3999155357|T�CNICO ADJUNTO D...|< �Te interesa u...|/Align/is quickly...|Zaragoza, Aragon,...|\n",
      "+-------+--------------------+--------------------+--------------------+--------------------+--------------------+--------------------+\n",
      "\n"
     ]
    }
   ],
   "source": [
    "file = 's3://newbucketlinkedin/linkedinapitodosKeywords.csv'\n",
    "\n",
    "df = (spark.read.format(\"csv\")\n",
    "     .option(\"header\", \"true\")\n",
    "     .option(\"inferSchema\", \"true\")\n",
    "     .load(file))\n",
    "\n",
    "df.printSchema()\n",
    "\n",
    "df.describe().show()"
   ]
  },
  {
   "cell_type": "code",
   "execution_count": 5,
   "metadata": {},
   "outputs": [
    {
     "name": "stdout",
     "output_type": "stream",
     "text": [
      "Calculation started (calculation_id=28c93abe-b453-4e51-5fcf-94257055e58d) in (session=d0c93ab6-ab62-65e0-b7c7-2de843489584). Checking calculation status...\n"
     ]
    },
    {
     "data": {
      "application/vnd.jupyter.widget-view+json": {
       "model_id": "3da7b78679af4be381f4c1420d60e4d3",
       "version_major": 2,
       "version_minor": 0
      },
      "text/plain": [
       "Progress:   0%|          |elapsed time = 00:00s"
      ]
     },
     "metadata": {},
     "output_type": "display_data"
    },
    {
     "name": "stdout",
     "output_type": "stream",
     "text": [
      "Calculation completed.\n",
      "162\n",
      "\n"
     ]
    }
   ],
   "source": [
    "df.count()\n",
    "\n"
   ]
  },
  {
   "cell_type": "code",
   "execution_count": null,
   "metadata": {},
   "outputs": [],
   "source": []
  }
 ],
 "metadata": {
  "kernelspec": {
   "display_name": "Athena PySpark",
   "language": "python",
   "name": "kepler_python_kernel"
  },
  "language_info": {
   "codemirror_mode": {
    "name": "python",
    "version": 3
   },
   "file_extension": ".py",
   "mimetype": "text/x-python",
   "name": "Python_Session",
   "pygments_lexer": "python3"
  }
 },
 "nbformat": 4,
 "nbformat_minor": 1
}
